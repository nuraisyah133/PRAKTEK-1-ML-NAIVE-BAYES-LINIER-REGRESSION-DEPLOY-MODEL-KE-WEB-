{
 "cells": [
  {
   "cell_type": "code",
   "execution_count": null,
   "id": "422c4651-c381-448c-a383-b267caa3fe59",
   "metadata": {},
   "outputs": [],
   "source": [
    "Nama : NUR AISYAH\n",
    "Kelas :Machine Learning B\n",
    "NIM : 1217070060"
   ]
  },
  {
   "cell_type": "code",
   "execution_count": 2,
   "id": "2ece4a8c-cf25-4c1b-9b44-19bcc39274f7",
   "metadata": {},
   "outputs": [],
   "source": [
    "import pandas as pd\n",
    "import numpy as np\n",
    "from nltk.corpus import stopwords\n",
    "from nltk import ngrams, word_tokenize\n",
    "import string\n",
    "from sklearn.feature_extraction.text import TfidfVectorizer\n",
    "from sklearn import svm\n",
    "from sklearn.model_selection import train_test_split\n",
    "from sklearn.naive_bayes import MultinomialNB\n",
    "from nltk.stem import PorterStemmer\n",
    "from sklearn import metrics"
   ]
  },
  {
   "cell_type": "code",
   "execution_count": 4,
   "id": "92285c85-3db0-4d47-bf44-6bbbdab73c68",
   "metadata": {},
   "outputs": [
    {
     "data": {
      "text/html": [
       "<div>\n",
       "<style scoped>\n",
       "    .dataframe tbody tr th:only-of-type {\n",
       "        vertical-align: middle;\n",
       "    }\n",
       "\n",
       "    .dataframe tbody tr th {\n",
       "        vertical-align: top;\n",
       "    }\n",
       "\n",
       "    .dataframe thead th {\n",
       "        text-align: right;\n",
       "    }\n",
       "</style>\n",
       "<table border=\"1\" class=\"dataframe\">\n",
       "  <thead>\n",
       "    <tr style=\"text-align: right;\">\n",
       "      <th></th>\n",
       "      <th>0</th>\n",
       "      <th>1</th>\n",
       "      <th>2</th>\n",
       "    </tr>\n",
       "  </thead>\n",
       "  <tbody>\n",
       "    <tr>\n",
       "      <th>0</th>\n",
       "      <td>joy</td>\n",
       "      <td>On days when I feel close to my partner and ot...</td>\n",
       "      <td>NaN</td>\n",
       "    </tr>\n",
       "    <tr>\n",
       "      <th>1</th>\n",
       "      <td>fear</td>\n",
       "      <td>Every time I imagine that someone I love or I ...</td>\n",
       "      <td>NaN</td>\n",
       "    </tr>\n",
       "    <tr>\n",
       "      <th>2</th>\n",
       "      <td>anger</td>\n",
       "      <td>When I had been obviously unjustly treated and...</td>\n",
       "      <td>NaN</td>\n",
       "    </tr>\n",
       "    <tr>\n",
       "      <th>3</th>\n",
       "      <td>sadness</td>\n",
       "      <td>When I think about the short time that we live...</td>\n",
       "      <td>NaN</td>\n",
       "    </tr>\n",
       "    <tr>\n",
       "      <th>4</th>\n",
       "      <td>disgust</td>\n",
       "      <td>At a gathering I found myself involuntarily si...</td>\n",
       "      <td>NaN</td>\n",
       "    </tr>\n",
       "  </tbody>\n",
       "</table>\n",
       "</div>"
      ],
      "text/plain": [
       "         0                                                  1    2\n",
       "0      joy  On days when I feel close to my partner and ot...  NaN\n",
       "1     fear  Every time I imagine that someone I love or I ...  NaN\n",
       "2    anger  When I had been obviously unjustly treated and...  NaN\n",
       "3  sadness  When I think about the short time that we live...  NaN\n",
       "4  disgust  At a gathering I found myself involuntarily si...  NaN"
      ]
     },
     "execution_count": 4,
     "metadata": {},
     "output_type": "execute_result"
    }
   ],
   "source": [
    "df = pd.read_csv(r\"C:\\Users\\User\\Downloads\\Praktikum 1\\Praktikum 1\\Bahan data\\ISEAR.csv\", header=None)\n",
    "df.head()"
   ]
  },
  {
   "cell_type": "code",
   "execution_count": 6,
   "id": "115a8d6f-fc81-42bd-b49b-9be97cd4c649",
   "metadata": {},
   "outputs": [
    {
     "data": {
      "text/html": [
       "<div>\n",
       "<style scoped>\n",
       "    .dataframe tbody tr th:only-of-type {\n",
       "        vertical-align: middle;\n",
       "    }\n",
       "\n",
       "    .dataframe tbody tr th {\n",
       "        vertical-align: top;\n",
       "    }\n",
       "\n",
       "    .dataframe thead th {\n",
       "        text-align: right;\n",
       "    }\n",
       "</style>\n",
       "<table border=\"1\" class=\"dataframe\">\n",
       "  <thead>\n",
       "    <tr style=\"text-align: right;\">\n",
       "      <th></th>\n",
       "      <th>Emotion</th>\n",
       "      <th>Text</th>\n",
       "    </tr>\n",
       "  </thead>\n",
       "  <tbody>\n",
       "    <tr>\n",
       "      <th>0</th>\n",
       "      <td>joy</td>\n",
       "      <td>On days when I feel close to my partner and ot...</td>\n",
       "    </tr>\n",
       "    <tr>\n",
       "      <th>1</th>\n",
       "      <td>fear</td>\n",
       "      <td>Every time I imagine that someone I love or I ...</td>\n",
       "    </tr>\n",
       "    <tr>\n",
       "      <th>2</th>\n",
       "      <td>anger</td>\n",
       "      <td>When I had been obviously unjustly treated and...</td>\n",
       "    </tr>\n",
       "    <tr>\n",
       "      <th>3</th>\n",
       "      <td>sadness</td>\n",
       "      <td>When I think about the short time that we live...</td>\n",
       "    </tr>\n",
       "    <tr>\n",
       "      <th>4</th>\n",
       "      <td>disgust</td>\n",
       "      <td>At a gathering I found myself involuntarily si...</td>\n",
       "    </tr>\n",
       "  </tbody>\n",
       "</table>\n",
       "</div>"
      ],
      "text/plain": [
       "   Emotion                                               Text\n",
       "0      joy  On days when I feel close to my partner and ot...\n",
       "1     fear  Every time I imagine that someone I love or I ...\n",
       "2    anger  When I had been obviously unjustly treated and...\n",
       "3  sadness  When I think about the short time that we live...\n",
       "4  disgust  At a gathering I found myself involuntarily si..."
      ]
     },
     "execution_count": 6,
     "metadata": {},
     "output_type": "execute_result"
    }
   ],
   "source": [
    "col = [0, 1]\n",
    "new_df = df[col]\n",
    "new_df = new_df[pd.notnull(df[1])]\n",
    "new_df.columns = ['Emotion', 'Text']\n",
    "new_df.head()"
   ]
  },
  {
   "cell_type": "code",
   "execution_count": 8,
   "id": "acb3e98f-c757-4bb7-b266-aed06de4ad57",
   "metadata": {},
   "outputs": [
    {
     "name": "stderr",
     "output_type": "stream",
     "text": [
      "Matplotlib is building the font cache; this may take a moment.\n"
     ]
    },
    {
     "data": {
      "image/png": "[encoded data removed]",
      "text/plain": [
       "<Figure size 800x600 with 1 Axes>"
      ]
     },
     "metadata": {},
     "output_type": "display_data"
    }
   ],
   "source": [
    "import matplotlib.pyplot as plt\n",
    "fig = plt.figure(figsize=(8, 6))\n",
    "new_df.groupby('Emotion').Text.count().plot.bar(ylim=0)\n",
    "plt.show()"
   ]
  },
  {
   "cell_type": "code",
   "execution_count": 10,
   "id": "189b5b37-e413-4a0b-b565-34436d8428f8",
   "metadata": {},
   "outputs": [
    {
     "data": {
      "text/plain": [
       "0           joy\n",
       "1          fear\n",
       "2         anger\n",
       "3       sadness\n",
       "4       disgust\n",
       "         ...   \n",
       "7511      shame\n",
       "7512      shame\n",
       "7513       fear\n",
       "7514      guilt\n",
       "7515       fear\n",
       "Name: Emotion, Length: 7516, dtype: object"
      ]
     },
     "execution_count": 10,
     "metadata": {},
     "output_type": "execute_result"
    }
   ],
   "source": [
    "new_df['Text']\n",
    "new_df['Emotion']"
   ]
  },
  {
   "cell_type": "code",
   "execution_count": 12,
   "id": "264853ff-ecb3-4cd1-861e-2e08a8f7f6bf",
   "metadata": {},
   "outputs": [],
   "source": [
    "def getTokenizedList(input_df):\n",
    "    tokenizedList = []\n",
    "    for i in range(0, len(input_df)):\n",
    "        curText = input_df[1].iloc[i]\n",
    "        curText = curText.replace('\\n', '')\n",
    "        curTokenized =word_tokenize(curText)\n",
    "        tokenizedList.append(curTokenized)\n",
    "    \n",
    "    # Remove punctuation\n",
    "    tokenizedListWithoutPunct = []\n",
    "    punctList = list(string.punctuation)\n",
    "    for i in range(0, len(tokenizedList)):\n",
    "        curList = tokenizedList[i]\n",
    "        newList = [] # List without punctuation\n",
    "        for word in curList:\n",
    "            if word.lower() not in punctList:\n",
    "                newList.append(word.lower())\n",
    "        tokenizedListWithoutPunct.append(newList)\n",
    "\n",
    "    # Stemming\n",
    "    mystemmer = PorterStemmer()\n",
    "    tokenizedStemmed = []\n",
    "    for i in range(0, len(tokenizedListWithoutPunct)):\n",
    "        curList = tokenizedListWithoutPunct[i]\n",
    "        newList = []\n",
    "        for word in curList:\n",
    "            newList.append(mystemmer.stem(word))\n",
    "        tokenizedStemmed.append(newList)\n",
    "    \n",
    "    return tokenizedStemmed"
   ]
  },
  {
   "cell_type": "code",
   "execution_count": 14,
   "id": "8d4c58f3-e817-47f1-80b7-8211efa48513",
   "metadata": {},
   "outputs": [],
   "source": [
    "def transformSentence(sent):\n",
    "    s = []\n",
    "    sent = sent.replace('\\n', '')\n",
    "    sentTokenized = word_tokenize(sent)\n",
    "    s.append(sentTokenized)\n",
    "    \n",
    "    sWithoutPunct = []\n",
    "    punctList = list(string.punctuation)\n",
    "    curSentList = s[0]\n",
    "    newSentList = []\n",
    "    \n",
    "    for word in curSentList:\n",
    "        if word.lower() not in punctList:\n",
    "            newSentList.append(word.lower())\n",
    "    \n",
    "    sWithoutPunct.append(newSentList)\n",
    "    \n",
    "    mystemmer = PorterStemmer()\n",
    "    tokenizedStemmed = []\n",
    "    \n",
    "    for i in range(0, len(sWithoutPunct)):\n",
    "        curList = sWithoutPunct[i]\n",
    "        newList = []\n",
    "        \n",
    "        for word in curList:\n",
    "            newList.append(mystemmer.stem(word))\n",
    "        \n",
    "        tokenizedStemmed.append(newList)\n",
    "    \n",
    "    return tokenizedStemmed"
   ]
  },
  {
   "cell_type": "code",
   "execution_count": 16,
   "id": "b14c4b3b-466e-4618-a9e0-8b7b298afe48",
   "metadata": {},
   "outputs": [],
   "source": [
    "X_train, X_test, Y_train, Y_test=train_test_split(new_df['Text'],new_df['Emotion'], test_size=.3,random_state=1)"
   ]
  },
  {
   "cell_type": "code",
   "execution_count": 18,
   "id": "62f8aa6e-0d7e-4d34-b31e-3ddf3352284a",
   "metadata": {},
   "outputs": [],
   "source": [
    "def returnPhrase(inputList):\n",
    "    return inputList"
   ]
  },
  {
   "cell_type": "code",
   "execution_count": 22,
   "id": "e0fbd5bd-e09f-49f2-b626-f582f0bd6e88",
   "metadata": {},
   "outputs": [],
   "source": [
    "#Extracting features for Naive Bayes\n",
    "\n",
    "myVectorizer=TfidfVectorizer(analyzer='word',tokenizer=returnPhrase,preprocessor=returnPhrase,token_pattern=None,ngram_range=(1,3))\n",
    "myVectorizer.fit(X_train)\n",
    "transformedTrain=myVectorizer.transform(X_train).toarray()\n",
    "transformedTest=myVectorizer.transform(X_test).toarray()"
   ]
  },
  {
   "cell_type": "code",
   "execution_count": 26,
   "id": "c9321f63-7132-4991-9126-e1617b8cec70",
   "metadata": {},
   "outputs": [
    {
     "name": "stdout",
     "output_type": "stream",
     "text": [
      "Best Accuracy Naive Bayes\n",
      "0.5121951219512195\n"
     ]
    }
   ],
   "source": [
    "curAlpha = 0.33  # smoothing factor in Naive Bayes\n",
    "NBClassifier = MultinomialNB(alpha=curAlpha)\n",
    "NBClassifier.fit(transformedTrain, Y_train)\n",
    "myPredTest = NBClassifier.predict(transformedTest)\n",
    "print('Best Accuracy Naive Bayes')\n",
    "print(np.sum(myPredTest == Y_test) / len(Y_test))"
   ]
  },
  {
   "cell_type": "code",
   "execution_count": 28,
   "id": "7ed5f13e-3346-4fd8-8022-a48836b441aa",
   "metadata": {},
   "outputs": [
    {
     "name": "stdout",
     "output_type": "stream",
     "text": [
      "Metrics Classification Report: Naive Bayes\n",
      "              precision    recall  f1-score   support\n",
      "\n",
      "       anger       0.41      0.43      0.42       331\n",
      "     disgust       0.65      0.46      0.54       324\n",
      "        fear       0.58      0.66      0.62       311\n",
      "       guilt       0.34      0.52      0.41       299\n",
      "         joy       0.61      0.59      0.60       323\n",
      "     sadness       0.66      0.54      0.59       351\n",
      "       shame       0.45      0.40      0.42       316\n",
      "\n",
      "    accuracy                           0.51      2255\n",
      "   macro avg       0.53      0.51      0.51      2255\n",
      "weighted avg       0.53      0.51      0.52      2255\n",
      "\n"
     ]
    }
   ],
   "source": [
    "print('Metrics Classification Report: Naive Bayes') \n",
    "print(metrics.classification_report (Y_test,myPredTest))"
   ]
  },
  {
   "cell_type": "code",
   "execution_count": 30,
   "id": "8046eb75-1982-4c13-9807-f2e4b4e05a77",
   "metadata": {},
   "outputs": [],
   "source": [
    "myVectorizer=TfidfVectorizer(analyzer='word',tokenizer=returnPhrase,preprocessor=returnPhrase,token_pattern=None,ngram_range=(1,3))\n",
    "myVectorizer.fit(X_train)\n",
    "transformedTrain=myVectorizer.transform(X_train).toarray()\n",
    "transformedTest=myVectorizer.transform(X_test).toarray()                                    "
   ]
  },
  {
   "cell_type": "code",
   "execution_count": 41,
   "id": "fcf212f8-ddbc-4076-a61d-f355b933570d",
   "metadata": {},
   "outputs": [
    {
     "name": "stderr",
     "output_type": "stream",
     "text": [
      "C:\\Users\\User\\anaconda3\\Lib\\site-packages\\sklearn\\svm\\_classes.py:31: FutureWarning: The default value of `dual` will change from `True` to `'auto'` in 1.5. Set the value of `dual` explicitly to suppress the warning.\n",
      "  warnings.warn(\n"
     ]
    },
    {
     "name": "stdout",
     "output_type": "stream",
     "text": [
      "Best Accuracy SVM\n",
      "0.5627494456762749\n"
     ]
    }
   ],
   "source": [
    "curC = 2  # Cost factor in SVM\n",
    "SVMClassifier = svm.LinearSVC(C=curC)\n",
    "SVMClassifier.fit(transformedTrain,Y_train)\n",
    "myPredTest = SVMClassifier.predict(transformedTest)\n",
    "\n",
    "print('Best Accuracy SVM')\n",
    "print(np.sum(myPredTest == Y_test) / len(Y_test))\n"
   ]
  },
  {
   "cell_type": "code",
   "execution_count": 45,
   "id": "69a1a8e9-40e9-4880-b327-bb893d2e550f",
   "metadata": {},
   "outputs": [
    {
     "name": "stdout",
     "output_type": "stream",
     "text": [
      "Metrics Classification Report: SVM\n",
      "              precision    recall  f1-score   support\n",
      "\n",
      "       anger       0.47      0.44      0.46       331\n",
      "     disgust       0.60      0.58      0.59       324\n",
      "        fear       0.68      0.68      0.68       311\n",
      "       guilt       0.46      0.48      0.47       299\n",
      "         joy       0.64      0.69      0.66       323\n",
      "     sadness       0.61      0.64      0.63       351\n",
      "       shame       0.45      0.42      0.43       316\n",
      "\n",
      "    accuracy                           0.56      2255\n",
      "   macro avg       0.56      0.56      0.56      2255\n",
      "weighted avg       0.56      0.56      0.56      2255\n",
      "\n"
     ]
    }
   ],
   "source": [
    "print('Metrics Classification Report: SVM')\n",
    "print(metrics.classification_report (Y_test,myPredTest))"
   ]
  },
  {
   "cell_type": "code",
   "execution_count": 76,
   "id": "f1df80d5-3973-46b2-b7fd-3ac145c6d07c",
   "metadata": {},
   "outputs": [],
   "source": [
    "def predictSentNB(sent):\n",
    "    sendPred = NBClassifier.predict(myVectorizer.transform(transformSentence(sent)).toarray())\n",
    "    return sendPred"
   ]
  },
  {
   "cell_type": "code",
   "execution_count": 78,
   "id": "147a360e-eb38-4b5b-9a34-a296028ebada",
   "metadata": {},
   "outputs": [],
   "source": [
    "def predictSentSVM(sent):\n",
    "    sentPred = SVMClassifier.predict(myVectorizer.transform(transformSentence(sent)).toarray())\n",
    "    return sentPred"
   ]
  },
  {
   "cell_type": "code",
   "execution_count": 80,
   "id": "4fd985a3-ed5f-4c7d-8322-1bfd72840d50",
   "metadata": {},
   "outputs": [
    {
     "name": "stdout",
     "output_type": "stream",
     "text": [
      "Naive Bayes prediction\n",
      "['disgust']\n",
      "SVM prediction\n",
      "['guilt']\n"
     ]
    }
   ],
   "source": [
    "sent = \"I saw cat poop on the floor\"\n",
    "\n",
    "print(\"Naive Bayes prediction\")\n",
    "print(predictSentNB(sent))\n",
    "\n",
    "print(\"SVM prediction\")\n",
    "print(predictSentSVM(sent))"
   ]
  },
  {
   "cell_type": "code",
   "execution_count": 84,
   "id": "15b856e5-668d-4c6b-815d-bab1e463bf07",
   "metadata": {},
   "outputs": [
    {
     "data": {
      "image/png": "[encoded data removed]",
      "text/plain": [
       "<Figure size 700x700 with 2 Axes>"
      ]
     },
     "metadata": {},
     "output_type": "display_data"
    }
   ],
   "source": [
    "from sklearn.metrics import confusion_matrix\n",
    "import seaborn as sns\n",
    "import matplotlib.pyplot as plt\n",
    "\n",
    "labels = ['anger', 'disgust', 'fear', 'guilt', 'joy', 'sadness', 'shame']\n",
    "cm = confusion_matrix(Y_test, myPredTest, labels=labels)\n",
    "\n",
    "#print(cm)\n",
    "fig, ax = plt.subplots(figsize=(7, 7))\n",
    "sns.heatmap(cm, annot=True, fmt='d', xticklabels=labels, yticklabels=labels, cmap='Blues')\n",
    "plt.ylabel('Actual Emotions')\n",
    "plt.xlabel('Predicted Emotions')\n",
    "plt.show()\n"
   ]
  }
 ],
 "metadata": {
  "kernelspec": {
   "display_name": "Python 3 (ipykernel)",
   "language": "python",
   "name": "python3"
  },
  "language_info": {
   "codemirror_mode": {
    "name": "ipython",
    "version": 3
   },
   "file_extension": ".py",
   "mimetype": "text/x-python",
   "name": "python",
   "nbconvert_exporter": "python",
   "pygments_lexer": "ipython3",
   "version": "3.12.4"
  }
 },
 "nbformat": 4,
 "nbformat_minor": 5
}
